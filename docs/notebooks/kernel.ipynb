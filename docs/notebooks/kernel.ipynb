{
 "cells": [
  {
   "cell_type": "code",
   "execution_count": 1,
   "id": "b10be395-eb0e-4242-b95e-6adcf6f469ee",
   "metadata": {},
   "outputs": [],
   "source": [
    "from pathlib import Path\n",
    "import sys\n",
    "\n",
    "%load_ext autoreload\n",
    "%autoreload 2\n",
    "\n",
    "# TO CHANGE\n",
    "# absolute path to ACCAL/ACCAL folder\n",
    "appPath = Path(r\"D:\\Stage\\ACCAL\\ACCAL\")\n",
    "sys.path.append(str(appPath))"
   ]
  },
  {
   "cell_type": "code",
   "execution_count": 3,
   "id": "e46c2069-4101-49ae-943b-d4e227e05620",
   "metadata": {},
   "outputs": [
    {
     "ename": "AttributeError",
     "evalue": "module 'scipy' has no attribute 'sparse'",
     "output_type": "error",
     "traceback": [
      "\u001b[1;31m---------------------------------------------------------------------------\u001b[0m",
      "\u001b[1;31mAttributeError\u001b[0m                            Traceback (most recent call last)",
      "Input \u001b[1;32mIn [3]\u001b[0m, in \u001b[0;36m<cell line: 1>\u001b[1;34m()\u001b[0m\n\u001b[1;32m----> 1\u001b[0m \u001b[38;5;28;01mimport\u001b[39;00m \u001b[38;5;21;01mmodules\u001b[39;00m\u001b[38;5;21;01m.\u001b[39;00m\u001b[38;5;21;01mfeatures\u001b[39;00m\u001b[38;5;21;01m.\u001b[39;00m\u001b[38;5;21;01mkernel\u001b[39;00m\n",
      "File \u001b[1;32mD:\\Stage\\ACCAL\\ACCAL\\modules\\features\\kernel.py:9\u001b[0m, in \u001b[0;36m<module>\u001b[1;34m\u001b[0m\n\u001b[0;32m      4\u001b[0m \u001b[38;5;28;01mimport\u001b[39;00m \u001b[38;5;21;01mscipy\u001b[39;00m\n\u001b[0;32m      6\u001b[0m \u001b[38;5;28;01mimport\u001b[39;00m \u001b[38;5;21;01mnumpy\u001b[39;00m \u001b[38;5;28;01mas\u001b[39;00m \u001b[38;5;21;01mnp\u001b[39;00m\n\u001b[1;32m----> 9\u001b[0m \u001b[38;5;28;01mdef\u001b[39;00m \u001b[38;5;21mgetK\u001b[39m(nbSide:\u001b[38;5;28mint\u001b[39m,l:\u001b[38;5;28mfloat\u001b[39m,absAppPath:pathlib\u001b[38;5;241m.\u001b[39mPath)\u001b[38;5;241m-\u001b[39m\u001b[38;5;241m>\u001b[39m \u001b[43mscipy\u001b[49m\u001b[38;5;241;43m.\u001b[39;49m\u001b[43msparse\u001b[49m\u001b[38;5;241m.\u001b[39mlil_matrix   :\n\u001b[0;32m     10\u001b[0m     \u001b[38;5;124;03m\"\"\"Get K matrix for the with l kernel length\u001b[39;00m\n\u001b[0;32m     11\u001b[0m \n\u001b[0;32m     12\u001b[0m \n\u001b[1;32m   (...)\u001b[0m\n\u001b[0;32m     19\u001b[0m \u001b[38;5;124;03m        scipy.sparse.lil_matrix: K sparse matrix\u001b[39;00m\n\u001b[0;32m     20\u001b[0m \u001b[38;5;124;03m    \"\"\"\u001b[39;00m\n\u001b[0;32m     23\u001b[0m     \u001b[38;5;66;03m## Search for a precomputed value of K(l)\u001b[39;00m\n",
      "\u001b[1;31mAttributeError\u001b[0m: module 'scipy' has no attribute 'sparse'"
     ]
    }
   ],
   "source": [
    "import modules.features.kernel\n"
   ]
  },
  {
   "cell_type": "code",
   "execution_count": 69,
   "id": "f1412d49-df09-4804-83b8-ca10d2dadee0",
   "metadata": {},
   "outputs": [
    {
     "data": {
      "text/plain": [
       "0"
      ]
     },
     "execution_count": 69,
     "metadata": {},
     "output_type": "execute_result"
    }
   ],
   "source": [
    "features.kernel.getK(1,2.2,appPath)"
   ]
  },
  {
   "cell_type": "code",
   "execution_count": 34,
   "id": "2c7d4e47-9438-4a75-bf6d-290239298364",
   "metadata": {},
   "outputs": [],
   "source": [
    "PathList = list(KdataPath.glob(\"L_*\"))\n",
    "l = 2.55"
   ]
  },
  {
   "cell_type": "code",
   "execution_count": 35,
   "id": "ea2286ad-3c38-4eab-9027-abbbb08ed301",
   "metadata": {},
   "outputs": [],
   "source": [
    "for path in PahtList:\n",
    "    if str(l) in path.name:\n",
    "        print(\"OK\")"
   ]
  },
  {
   "cell_type": "code",
   "execution_count": null,
   "id": "4ecd40a6-ce62-4da8-95c3-5f7814ac95b8",
   "metadata": {},
   "outputs": [],
   "source": []
  }
 ],
 "metadata": {
  "kernelspec": {
   "display_name": "Python 3 (ipykernel)",
   "language": "python",
   "name": "python3"
  },
  "language_info": {
   "codemirror_mode": {
    "name": "ipython",
    "version": 3
   },
   "file_extension": ".py",
   "mimetype": "text/x-python",
   "name": "python",
   "nbconvert_exporter": "python",
   "pygments_lexer": "ipython3",
   "version": "3.9.12"
  }
 },
 "nbformat": 4,
 "nbformat_minor": 5
}
